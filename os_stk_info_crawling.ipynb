{
 "cells": [
  {
   "cell_type": "code",
   "execution_count": 1,
   "metadata": {},
   "outputs": [],
   "source": [
    "from fetch_data import fetch_data_from_db\n",
    "\n",
    "sql = \"\"\"\n",
    "    SELECT child_stk_tkr FROM os_pdf_info\n",
    "\"\"\"\n",
    "\n",
    "stk_tkr = fetch_data_from_db(query=sql)"
   ]
  },
  {
   "cell_type": "markdown",
   "metadata": {},
   "source": [
    "- 우선 미국 주식만 가져옵니다."
   ]
  },
  {
   "cell_type": "code",
   "execution_count": 2,
   "metadata": {},
   "outputs": [],
   "source": [
    "import pandas as pd\n",
    "\n",
    "stk_tkr_df = pd.DataFrame(stk_tkr)\n",
    "\n",
    "stk_tkr_df = stk_tkr_df[~stk_tkr_df['child_stk_tkr'].str.contains(' ')]"
   ]
  },
  {
   "cell_type": "markdown",
   "metadata": {},
   "source": [
    "- yfinance에 유동주식수(float shares)가 등재되지 않은 종목은 제외합니다."
   ]
  },
  {
   "cell_type": "code",
   "execution_count": 3,
   "metadata": {},
   "outputs": [
    {
     "name": "stdout",
     "output_type": "stream",
     "text": [
      "ADT\n",
      "BABA\n",
      "BB\n",
      "BCAN\n",
      "CYBR\n",
      "FTRE\n",
      "HYZN\n",
      "MTTR\n",
      "PLL\n",
      "PRCH\n",
      "RNG\n",
      "SMCI\n",
      "TDC\n"
     ]
    }
   ],
   "source": [
    "import yfinance as yf\n",
    "\n",
    "float_shares_dict = {\n",
    "    \"stk_tkr\": [],\n",
    "    \"float_shares\": []\n",
    "}\n",
    "\n",
    "error_stk_list = []\n",
    "\n",
    "for i, row in stk_tkr_df.iterrows():    \n",
    "    stk_tkr = row[\"child_stk_tkr\"]\n",
    "    \n",
    "    try:\n",
    "        float_shares = yf.Ticker(stk_tkr).info[\"floatShares\"]\n",
    "\n",
    "        float_shares_dict[\"stk_tkr\"].append(stk_tkr)\n",
    "        float_shares_dict[\"float_shares\"].append(float_shares)\n",
    "        \n",
    "    except:\n",
    "        print(stk_tkr)\n",
    "        \n",
    "        error_stk_list.append(stk_tkr)"
   ]
  },
  {
   "cell_type": "code",
   "execution_count": 7,
   "metadata": {},
   "outputs": [
    {
     "data": {
      "text/html": [
       "<div>\n",
       "<style scoped>\n",
       "    .dataframe tbody tr th:only-of-type {\n",
       "        vertical-align: middle;\n",
       "    }\n",
       "\n",
       "    .dataframe tbody tr th {\n",
       "        vertical-align: top;\n",
       "    }\n",
       "\n",
       "    .dataframe thead th {\n",
       "        text-align: right;\n",
       "    }\n",
       "</style>\n",
       "<table border=\"1\" class=\"dataframe\">\n",
       "  <thead>\n",
       "    <tr style=\"text-align: right;\">\n",
       "      <th></th>\n",
       "      <th>stk_tkr</th>\n",
       "      <th>float_shares</th>\n",
       "    </tr>\n",
       "  </thead>\n",
       "  <tbody>\n",
       "    <tr>\n",
       "      <th>0</th>\n",
       "      <td>A</td>\n",
       "      <td>294401078</td>\n",
       "    </tr>\n",
       "    <tr>\n",
       "      <th>1</th>\n",
       "      <td>AA</td>\n",
       "      <td>177057698</td>\n",
       "    </tr>\n",
       "    <tr>\n",
       "      <th>2</th>\n",
       "      <td>AAON</td>\n",
       "      <td>44908066</td>\n",
       "    </tr>\n",
       "    <tr>\n",
       "      <th>3</th>\n",
       "      <td>AAPL</td>\n",
       "      <td>15617347029</td>\n",
       "    </tr>\n",
       "    <tr>\n",
       "      <th>4</th>\n",
       "      <td>ABBV</td>\n",
       "      <td>1762275557</td>\n",
       "    </tr>\n",
       "  </tbody>\n",
       "</table>\n",
       "</div>"
      ],
      "text/plain": [
       "  stk_tkr  float_shares\n",
       "0       A     294401078\n",
       "1      AA     177057698\n",
       "2    AAON      44908066\n",
       "3    AAPL   15617347029\n",
       "4    ABBV    1762275557"
      ]
     },
     "execution_count": 7,
     "metadata": {},
     "output_type": "execute_result"
    }
   ],
   "source": [
    "os_stk_info_df = pd.DataFrame(float_shares_dict)\n",
    "os_stk_info_df.head()"
   ]
  },
  {
   "cell_type": "markdown",
   "metadata": {},
   "source": [
    "- CSV 저장"
   ]
  },
  {
   "cell_type": "code",
   "execution_count": 8,
   "metadata": {},
   "outputs": [],
   "source": [
    "os_stk_info_df.to_csv(\"./data_before_db_insert/os_stk_info.csv\")"
   ]
  }
 ],
 "metadata": {
  "kernelspec": {
   "display_name": "bt",
   "language": "python",
   "name": "python3"
  },
  "language_info": {
   "codemirror_mode": {
    "name": "ipython",
    "version": 3
   },
   "file_extension": ".py",
   "mimetype": "text/x-python",
   "name": "python",
   "nbconvert_exporter": "python",
   "pygments_lexer": "ipython3",
   "version": "3.10.12"
  },
  "orig_nbformat": 4
 },
 "nbformat": 4,
 "nbformat_minor": 2
}
