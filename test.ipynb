{
 "cells": [
  {
   "cell_type": "code",
   "execution_count": null,
   "metadata": {},
   "outputs": [],
   "source": [
    "from data.fetch_data import fetch_data_from_db\n",
    "\n",
    "sql = \"\"\"CREATE TABLE final_invest_info(\n",
    "    country_code TEXT,\n",
    "    country_name TEXT,\n",
    "    city TEXT,\n",
    "    postal TEXT,\n",
    "    latitude DOUBLE,\n",
    "    longtitude DOUBLE,\n",
    "    IPv4 TEXT,\n",
    "    state TEXT\n",
    ")\n",
    "\"\"\""
   ]
  }
 ],
 "metadata": {
  "language_info": {
   "name": "python"
  },
  "orig_nbformat": 4
 },
 "nbformat": 4,
 "nbformat_minor": 2
}
