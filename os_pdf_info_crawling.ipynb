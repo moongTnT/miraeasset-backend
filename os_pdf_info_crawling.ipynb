{
 "cells": [
  {
   "cell_type": "markdown",
   "metadata": {},
   "source": [
    "### os_pdf_info 크롤링\n",
    "GLOBAL X Thematic ETF의 1)구성종목 수, 2)구성종목티커, 3)구성종목명을 크롤링합니다."
   ]
  },
  {
   "cell_type": "code",
   "execution_count": 1,
   "metadata": {},
   "outputs": [],
   "source": [
    "from fetch_data import fetch_theme_info\n",
    "\n",
    "\n",
    "theme_info = fetch_theme_info()"
   ]
  },
  {
   "cell_type": "markdown",
   "metadata": {},
   "source": [
    "- 웹 크롤링은 병렬로 처리합니다"
   ]
  },
  {
   "cell_type": "code",
   "execution_count": 2,
   "metadata": {},
   "outputs": [],
   "source": [
    "import aiohttp\n",
    "import asyncio\n",
    "import nest_asyncio\n",
    "\n",
    "\n",
    "nest_asyncio.apply()\n",
    "\n",
    "BASE_URL=\"https://www.globalxetfs.com/funds/\"\n",
    "\n",
    "async def fetch_from_web(session, url):\n",
    "    async with session.get(url) as response:\n",
    "        html = await response.text()\n",
    "        return url.split(\"/\")[-1], html\n",
    "        \n",
    "async def parallel_fetch_from_web():\n",
    "    urls = [BASE_URL+theme['etf_tkr'] for theme in theme_info]\n",
    "    \n",
    "    async with aiohttp.ClientSession() as session:\n",
    "        result = await asyncio.gather(*[fetch_from_web(session, url) for url in urls])\n",
    "        \n",
    "    return result\n",
    "\n",
    "result = asyncio.run(parallel_fetch_from_web())"
   ]
  },
  {
   "cell_type": "markdown",
   "metadata": {},
   "source": [
    "- BeautifulSoup을 사용해 특정 값만 추출합니다"
   ]
  },
  {
   "cell_type": "code",
   "execution_count": 3,
   "metadata": {},
   "outputs": [],
   "source": [
    "from typing import Tuple\n",
    "import bs4\n",
    "\n",
    "\n",
    "pdf_cnt_html_selector = \"#fund > div.fd-3 > div > div > div:nth-child(2) > table:nth-child(2) > tr\"\n",
    "    \n",
    "def child_stk_tkr_html_selector(idx: int) -> str:\n",
    "    return f\"#top-ten > tbody > tr:nth-child({idx}) > td:nth-child(2)\"\n",
    "\n",
    "def child_stk_en_name_html_selector(idx: int) -> str:\n",
    "    return f\"#top-ten > tbody > tr:nth-child({idx}) > td.label\"\n",
    "\n",
    "def get_stk_tkr_and_en_name(*args, **kwargs) -> Tuple[str, str]:\n",
    "    soup = kwargs.pop(\"soup\")\n",
    "    idx = kwargs.pop(\"idx\")\n",
    "    \n",
    "    child_stk_tkr = soup.select(child_stk_tkr_html_selector(idx))[0].text\n",
    "    child_stk_en_name = soup.select(child_stk_en_name_html_selector(idx))[0].text\n",
    "    \n",
    "    return child_stk_tkr, child_stk_en_name\n",
    "\n",
    "pdf_dict = {}\n",
    "\n",
    "for etf_tkr, html in result:\n",
    "    soup = bs4.BeautifulSoup(html, 'html.parser')\n",
    "    \n",
    "    pdf_cnt = soup.select(pdf_cnt_html_selector)[6].find_all(\"td\")[1].text\n",
    "    \n",
    "    child_stk_tkr_list, child_stk_en_name_list = [], []\n",
    "\n",
    "    for i in range(int(pdf_cnt)):\n",
    "        child_stk_tkr, child_stk_en_name = get_stk_tkr_and_en_name(soup=soup, idx=i+1)\n",
    "        child_stk_tkr_list.append(child_stk_tkr)\n",
    "        child_stk_en_name_list.append(child_stk_en_name)\n",
    "        \n",
    "    pdf_dict[etf_tkr] = {\n",
    "        \"pdf_cnt\": int(pdf_cnt),\n",
    "        \"child_stk_tkr_list\": child_stk_tkr_list,\n",
    "        \"child_stk_en_name_list\": child_stk_en_name_list\n",
    "        }"
   ]
  },
  {
   "cell_type": "markdown",
   "metadata": {},
   "source": [
    "- DB 적재하기 편하게 csv 파일로 저장합니다"
   ]
  },
  {
   "cell_type": "code",
   "execution_count": 4,
   "metadata": {},
   "outputs": [
    {
     "data": {
      "text/html": [
       "<div>\n",
       "<style scoped>\n",
       "    .dataframe tbody tr th:only-of-type {\n",
       "        vertical-align: middle;\n",
       "    }\n",
       "\n",
       "    .dataframe tbody tr th {\n",
       "        vertical-align: top;\n",
       "    }\n",
       "\n",
       "    .dataframe thead th {\n",
       "        text-align: right;\n",
       "    }\n",
       "</style>\n",
       "<table border=\"1\" class=\"dataframe\">\n",
       "  <thead>\n",
       "    <tr style=\"text-align: right;\">\n",
       "      <th></th>\n",
       "      <th>child_stk_tkr</th>\n",
       "      <th>child_stk_name</th>\n",
       "      <th>etf_tkr</th>\n",
       "    </tr>\n",
       "  </thead>\n",
       "  <tbody>\n",
       "    <tr>\n",
       "      <th>0</th>\n",
       "      <td>LLY</td>\n",
       "      <td>ELI LILLY &amp; CO</td>\n",
       "      <td>AGNG</td>\n",
       "    </tr>\n",
       "    <tr>\n",
       "      <th>1</th>\n",
       "      <td>4519 JP</td>\n",
       "      <td>CHUGAI PHARMA CO</td>\n",
       "      <td>AGNG</td>\n",
       "    </tr>\n",
       "    <tr>\n",
       "      <th>2</th>\n",
       "      <td>ALC SW</td>\n",
       "      <td>ALCON INC</td>\n",
       "      <td>AGNG</td>\n",
       "    </tr>\n",
       "    <tr>\n",
       "      <th>3</th>\n",
       "      <td>WELL</td>\n",
       "      <td>WELLTOWER INC</td>\n",
       "      <td>AGNG</td>\n",
       "    </tr>\n",
       "    <tr>\n",
       "      <th>4</th>\n",
       "      <td>NOVOB DC</td>\n",
       "      <td>NOVO NORDISK A/S-B</td>\n",
       "      <td>AGNG</td>\n",
       "    </tr>\n",
       "  </tbody>\n",
       "</table>\n",
       "</div>"
      ],
      "text/plain": [
       "  child_stk_tkr      child_stk_name etf_tkr\n",
       "0           LLY      ELI LILLY & CO    AGNG\n",
       "1       4519 JP    CHUGAI PHARMA CO    AGNG\n",
       "2        ALC SW           ALCON INC    AGNG\n",
       "3          WELL       WELLTOWER INC    AGNG\n",
       "4      NOVOB DC  NOVO NORDISK A/S-B    AGNG"
      ]
     },
     "execution_count": 4,
     "metadata": {},
     "output_type": "execute_result"
    }
   ],
   "source": [
    "import pandas as pd\n",
    "\n",
    "df_list = []\n",
    "\n",
    "for k, v in pdf_dict.items():\n",
    "    df = pd.DataFrame()\n",
    "    \n",
    "    df[\"child_stk_tkr\"] = v[\"child_stk_tkr_list\"]\n",
    "    df[\"child_stk_name\"] = v[\"child_stk_en_name_list\"]\n",
    "    df[\"etf_tkr\"]=k\n",
    "    \n",
    "    df_list.append(df)\n",
    "    \n",
    "pdf_info_df = pd.concat(df_list)\n",
    "pdf_info_df = pdf_info_df[pdf_info_df[\"child_stk_tkr\"]!=\"\"]\n",
    "pdf_info_df.reset_index(drop=True, inplace=True)\n",
    "\n",
    "pdf_info_df.head()"
   ]
  },
  {
   "cell_type": "code",
   "execution_count": 6,
   "metadata": {},
   "outputs": [],
   "source": [
    "pdf_info_df.to_csv(\"./data_before_db_insert/os_pdf_info.csv\")"
   ]
  },
  {
   "cell_type": "code",
   "execution_count": null,
   "metadata": {},
   "outputs": [],
   "source": []
  }
 ],
 "metadata": {
  "kernelspec": {
   "display_name": "bt",
   "language": "python",
   "name": "python3"
  },
  "language_info": {
   "codemirror_mode": {
    "name": "ipython",
    "version": 3
   },
   "file_extension": ".py",
   "mimetype": "text/x-python",
   "name": "python",
   "nbconvert_exporter": "python",
   "pygments_lexer": "ipython3",
   "version": "3.10.12"
  },
  "orig_nbformat": 4
 },
 "nbformat": 4,
 "nbformat_minor": 2
}
